{
 "cells": [
  {
   "cell_type": "code",
   "execution_count": 9,
   "metadata": {},
   "outputs": [
    {
     "name": "stdout",
     "output_type": "stream",
     "text": [
      "Creating ASM_23_IO_IMAGES_edited to store renamed images.\n"
     ]
    }
   ],
   "source": [
    "#Purpose is to strip DICOM exposure information so reviewers can't be influenced by the factors when stating their perceived image quality\n",
    "\n",
    "import pydicom\n",
    "import numpy as np \n",
    "import glob \n",
    "import os\n",
    "\n",
    "folder_path =  \"ASM_23_IO_IMAGES\"\n",
    "file_list = glob.glob(folder_path+'/*')\n",
    "num_images = len(file_list)\n",
    "\n",
    "output_folder = folder_path + '_edited'\n",
    "\n",
    "if not os.path.exists(output_folder):\n",
    "    print(f'Creating {output_folder} to store renamed images.')\n",
    "    os.mkdir(output_folder)"
   ]
  },
  {
   "cell_type": "code",
   "execution_count": 7,
   "metadata": {},
   "outputs": [
    {
     "name": "stdout",
     "output_type": "stream",
     "text": [
      "0.0 0 0\n"
     ]
    }
   ],
   "source": [
    "#test with one image\n",
    "\n",
    "test_dcm = pydicom.dcmread(file_list[0])\n",
    "test_dcm.KVP = 0\n",
    "test_dcm.ExposureTime = 0\n",
    "test_dcm.XRayTubeCurrent = 0\n",
    "print(test_dcm.KVP, test_dcm.ExposureTime, test_dcm.XRayTubeCurrent)\n",
    "test_dcm.PatientName = \n",
    "#test_dcm.save_as('edit.dcm')"
   ]
  },
  {
   "cell_type": "code",
   "execution_count": 12,
   "metadata": {},
   "outputs": [],
   "source": [
    "# Full run\n",
    "import csv\n",
    "csv_header = ['old_name', 'new_name']\n",
    "name_result_dict = []\n",
    "\n",
    "for i, im in enumerate(file_list):\n",
    "    dcm_im = pydicom.dcmread(im)\n",
    "    #keeping record of old name and new name\n",
    "    new_name = f\"IO_Image_{i+1}.dcm\"\n",
    "    name_result_dict.append({'old_name':im, 'new_name': new_name})\n",
    "\n",
    "    dcm_im.KVP = 0\n",
    "    dcm_im.ExposureTime = 0\n",
    "    dcm_im.XRayTubeCurrent = 0\n",
    "    dcm_im.PatientName = new_name\n",
    "\n",
    "    dcm_im.save_as(output_folder+'/'+new_name)\n",
    "\n",
    "csv_file = ('name_list.csv')\n",
    "try:\n",
    "    with open(csv_file, 'w', encoding=\"utf-8\", newline='') as csvfile:\n",
    "        writer = csv.DictWriter(csvfile, fieldnames=csv_header)\n",
    "        writer.writeheader()\n",
    "        for data in name_result_dict:\n",
    "            writer.writerow(data)\n",
    "except IOError:\n",
    "    print(\"I/O error\")\n",
    "\n"
   ]
  }
 ],
 "metadata": {
  "kernelspec": {
   "display_name": "Python 3",
   "language": "python",
   "name": "python3"
  },
  "language_info": {
   "codemirror_mode": {
    "name": "ipython",
    "version": 3
   },
   "file_extension": ".py",
   "mimetype": "text/x-python",
   "name": "python",
   "nbconvert_exporter": "python",
   "pygments_lexer": "ipython3",
   "version": "3.10.5"
  },
  "orig_nbformat": 4
 },
 "nbformat": 4,
 "nbformat_minor": 2
}
