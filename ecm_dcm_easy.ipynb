{
 "cells": [
  {
   "cell_type": "code",
   "execution_count": 20,
   "metadata": {},
   "outputs": [],
   "source": [
    "#Combines based on the assumption that they're exported at same time\n",
    "#and therefore have same number suffix\n",
    "\n",
    "#ie DCM00001 pairs with ECM000001\n",
    "\n",
    "import glob \n",
    "import pydicom \n",
    "import numpy as np \n",
    "import os \n",
    "\n",
    "import glob\n",
    "import pydicom\n",
    "import numpy as np\n",
    "import os \n",
    "\n",
    "\n",
    "ecm_path = 'ecm_to_combine'\n",
    "dcm_path = 'dcm_to_combine'\n",
    "\n",
    "output_path = 'combined_images'\n",
    "\n",
    "if not os.path.exists(output_path):\n",
    "    os.mkdir(output_path) \n",
    "\n",
    "ecm_files = glob.glob(ecm_path + '/*') \n",
    "dcm_files = glob.glob(dcm_path + '/*')\n",
    "\n",
    "#Info for Siemens IMPACT C\n",
    "OFFSET = 20480\n",
    "ROWS = 3070\n",
    "COLS = 3070\n",
    "\n",
    "for ecm, dcm in zip(ecm_files, dcm_files):\n",
    "    with open(ecm, mode='rb') as f:\n",
    "        pixel_data = np.fromfile(f, dtype=np.uint16, count=ROWS*COLS, offset=OFFSET).reshape((ROWS, COLS), order='C')\n",
    "\n",
    "    dcm_im = pydicom.dcmread(dcm)\n",
    "\n",
    "    dcm_im.PixelData = pixel_data.tobytes() \n",
    "    dcm_im.Rows, dcm_im.Columns = pixel_data.shape \n",
    "    dcm_im.PresentationIntentType = \"RONAN_FIX\" \n",
    "    \n",
    "    save_path = output_path + '/' + os.path.basename(dcm) + '-RAW.dcm' \n",
    "    dcm_im.save_as(save_path)\n",
    "\n"
   ]
  },
  {
   "cell_type": "code",
   "execution_count": 17,
   "metadata": {},
   "outputs": [],
   "source": [
    "test_dcm = pydicom.dcmread(dcm_files[0])\n",
    "test_ecm = ecm_files[0]\n",
    "\n",
    "with open(test_ecm, mode='rb') as f:\n",
    "    pixel_data = np.fromfile(f, dtype=np.uint16, count=ROWS*COLS, offset=OFFSET).reshape((ROWS, COLS), order='C')\n",
    "\n",
    "test_dcm.PixelData = pixel_data.tobytes()\n",
    "test_dcm.Rows, test_dcm.Columns = pixel_data.shape\n",
    "test_dcm.PresentationIntentType = \"RONAN_FIX\"\n",
    "test_dcm.save_as('im1-test.dcm')"
   ]
  },
  {
   "cell_type": "code",
   "execution_count": 9,
   "metadata": {},
   "outputs": [
    {
     "data": {
      "text/plain": [
       "<matplotlib.image.AxesImage at 0x16785b9da50>"
      ]
     },
     "execution_count": 9,
     "metadata": {},
     "output_type": "execute_result"
    },
    {
     "data": {
      "image/png": "[encoded data removed]",
      "text/plain": [
       "<Figure size 432x288 with 1 Axes>"
      ]
     },
     "metadata": {
      "needs_background": "light"
     },
     "output_type": "display_data"
    }
   ],
   "source": []
  },
  {
   "cell_type": "code",
   "execution_count": null,
   "metadata": {},
   "outputs": [],
   "source": []
  }
 ],
 "metadata": {
  "kernelspec": {
   "display_name": "Python 3",
   "language": "python",
   "name": "python3"
  },
  "language_info": {
   "codemirror_mode": {
    "name": "ipython",
    "version": 3
   },
   "file_extension": ".py",
   "mimetype": "text/x-python",
   "name": "python",
   "nbconvert_exporter": "python",
   "pygments_lexer": "ipython3",
   "version": "3.10.5"
  },
  "orig_nbformat": 4
 },
 "nbformat": 4,
 "nbformat_minor": 2
}
